{
  "cells": [
    {
      "cell_type": "code",
      "execution_count": null,
      "metadata": {},
      "outputs": [],
      "source": [
        "!pip install kaggle #if your dataset is availble on Kaggle\n"
      ]
    },
    {
      "cell_type": "code",
      "execution_count": null,
      "metadata": {
        "colab": {
          "base_uri": "https://localhost:8080/",
          "height": 92
        },
        "id": "cF06vUPr4r9l",
        "outputId": "1a09fa1c-c97f-4376-abac-db2548d64434"
      },
      "outputs": [
        {
          "data": {
            "text/html": [
              "\n",
              "     <input type=\"file\" id=\"files-8242fe77-d51a-4579-a3a6-485a55916227\" name=\"files[]\" multiple disabled\n",
              "        style=\"border:none\" />\n",
              "     <output id=\"result-8242fe77-d51a-4579-a3a6-485a55916227\">\n",
              "      Upload widget is only available when the cell has been executed in the\n",
              "      current browser session. Please rerun this cell to enable.\n",
              "      </output>\n",
              "      <script>// Copyright 2017 Google LLC\n",
              "//\n",
              "// Licensed under the Apache License, Version 2.0 (the \"License\");\n",
              "// you may not use this file except in compliance with the License.\n",
              "// You may obtain a copy of the License at\n",
              "//\n",
              "//      http://www.apache.org/licenses/LICENSE-2.0\n",
              "//\n",
              "// Unless required by applicable law or agreed to in writing, software\n",
              "// distributed under the License is distributed on an \"AS IS\" BASIS,\n",
              "// WITHOUT WARRANTIES OR CONDITIONS OF ANY KIND, either express or implied.\n",
              "// See the License for the specific language governing permissions and\n",
              "// limitations under the License.\n",
              "\n",
              "/**\n",
              " * @fileoverview Helpers for google.colab Python module.\n",
              " */\n",
              "(function(scope) {\n",
              "function span(text, styleAttributes = {}) {\n",
              "  const element = document.createElement('span');\n",
              "  element.textContent = text;\n",
              "  for (const key of Object.keys(styleAttributes)) {\n",
              "    element.style[key] = styleAttributes[key];\n",
              "  }\n",
              "  return element;\n",
              "}\n",
              "\n",
              "// Max number of bytes which will be uploaded at a time.\n",
              "const MAX_PAYLOAD_SIZE = 100 * 1024;\n",
              "\n",
              "function _uploadFiles(inputId, outputId) {\n",
              "  const steps = uploadFilesStep(inputId, outputId);\n",
              "  const outputElement = document.getElementById(outputId);\n",
              "  // Cache steps on the outputElement to make it available for the next call\n",
              "  // to uploadFilesContinue from Python.\n",
              "  outputElement.steps = steps;\n",
              "\n",
              "  return _uploadFilesContinue(outputId);\n",
              "}\n",
              "\n",
              "// This is roughly an async generator (not supported in the browser yet),\n",
              "// where there are multiple asynchronous steps and the Python side is going\n",
              "// to poll for completion of each step.\n",
              "// This uses a Promise to block the python side on completion of each step,\n",
              "// then passes the result of the previous step as the input to the next step.\n",
              "function _uploadFilesContinue(outputId) {\n",
              "  const outputElement = document.getElementById(outputId);\n",
              "  const steps = outputElement.steps;\n",
              "\n",
              "  const next = steps.next(outputElement.lastPromiseValue);\n",
              "  return Promise.resolve(next.value.promise).then((value) => {\n",
              "    // Cache the last promise value to make it available to the next\n",
              "    // step of the generator.\n",
              "    outputElement.lastPromiseValue = value;\n",
              "    return next.value.response;\n",
              "  });\n",
              "}\n",
              "\n",
              "/**\n",
              " * Generator function which is called between each async step of the upload\n",
              " * process.\n",
              " * @param {string} inputId Element ID of the input file picker element.\n",
              " * @param {string} outputId Element ID of the output display.\n",
              " * @return {!Iterable<!Object>} Iterable of next steps.\n",
              " */\n",
              "function* uploadFilesStep(inputId, outputId) {\n",
              "  const inputElement = document.getElementById(inputId);\n",
              "  inputElement.disabled = false;\n",
              "\n",
              "  const outputElement = document.getElementById(outputId);\n",
              "  outputElement.innerHTML = '';\n",
              "\n",
              "  const pickedPromise = new Promise((resolve) => {\n",
              "    inputElement.addEventListener('change', (e) => {\n",
              "      resolve(e.target.files);\n",
              "    });\n",
              "  });\n",
              "\n",
              "  const cancel = document.createElement('button');\n",
              "  inputElement.parentElement.appendChild(cancel);\n",
              "  cancel.textContent = 'Cancel upload';\n",
              "  const cancelPromise = new Promise((resolve) => {\n",
              "    cancel.onclick = () => {\n",
              "      resolve(null);\n",
              "    };\n",
              "  });\n",
              "\n",
              "  // Wait for the user to pick the files.\n",
              "  const files = yield {\n",
              "    promise: Promise.race([pickedPromise, cancelPromise]),\n",
              "    response: {\n",
              "      action: 'starting',\n",
              "    }\n",
              "  };\n",
              "\n",
              "  cancel.remove();\n",
              "\n",
              "  // Disable the input element since further picks are not allowed.\n",
              "  inputElement.disabled = true;\n",
              "\n",
              "  if (!files) {\n",
              "    return {\n",
              "      response: {\n",
              "        action: 'complete',\n",
              "      }\n",
              "    };\n",
              "  }\n",
              "\n",
              "  for (const file of files) {\n",
              "    const li = document.createElement('li');\n",
              "    li.append(span(file.name, {fontWeight: 'bold'}));\n",
              "    li.append(span(\n",
              "        `(${file.type || 'n/a'}) - ${file.size} bytes, ` +\n",
              "        `last modified: ${\n",
              "            file.lastModifiedDate ? file.lastModifiedDate.toLocaleDateString() :\n",
              "                                    'n/a'} - `));\n",
              "    const percent = span('0% done');\n",
              "    li.appendChild(percent);\n",
              "\n",
              "    outputElement.appendChild(li);\n",
              "\n",
              "    const fileDataPromise = new Promise((resolve) => {\n",
              "      const reader = new FileReader();\n",
              "      reader.onload = (e) => {\n",
              "        resolve(e.target.result);\n",
              "      };\n",
              "      reader.readAsArrayBuffer(file);\n",
              "    });\n",
              "    // Wait for the data to be ready.\n",
              "    let fileData = yield {\n",
              "      promise: fileDataPromise,\n",
              "      response: {\n",
              "        action: 'continue',\n",
              "      }\n",
              "    };\n",
              "\n",
              "    // Use a chunked sending to avoid message size limits. See b/62115660.\n",
              "    let position = 0;\n",
              "    do {\n",
              "      const length = Math.min(fileData.byteLength - position, MAX_PAYLOAD_SIZE);\n",
              "      const chunk = new Uint8Array(fileData, position, length);\n",
              "      position += length;\n",
              "\n",
              "      const base64 = btoa(String.fromCharCode.apply(null, chunk));\n",
              "      yield {\n",
              "        response: {\n",
              "          action: 'append',\n",
              "          file: file.name,\n",
              "          data: base64,\n",
              "        },\n",
              "      };\n",
              "\n",
              "      let percentDone = fileData.byteLength === 0 ?\n",
              "          100 :\n",
              "          Math.round((position / fileData.byteLength) * 100);\n",
              "      percent.textContent = `${percentDone}% done`;\n",
              "\n",
              "    } while (position < fileData.byteLength);\n",
              "  }\n",
              "\n",
              "  // All done.\n",
              "  yield {\n",
              "    response: {\n",
              "      action: 'complete',\n",
              "    }\n",
              "  };\n",
              "}\n",
              "\n",
              "scope.google = scope.google || {};\n",
              "scope.google.colab = scope.google.colab || {};\n",
              "scope.google.colab._files = {\n",
              "  _uploadFiles,\n",
              "  _uploadFilesContinue,\n",
              "};\n",
              "})(self);\n",
              "</script> "
            ],
            "text/plain": [
              "<IPython.core.display.HTML object>"
            ]
          },
          "metadata": {},
          "output_type": "display_data"
        },
        {
          "name": "stdout",
          "output_type": "stream",
          "text": [
            "Saving kaggle.json to kaggle (1).json\n"
          ]
        },
        {
          "data": {
            "text/plain": [
              "{'kaggle (1).json': b'{\"username\":\"randeepsinghklair\",\"key\":\"5467def8f224e8173df154578d2c6a90\"}'}"
            ]
          },
          "execution_count": 3,
          "metadata": {},
          "output_type": "execute_result"
        }
      ],
      "source": [
        "from google.colab import files\n",
        "files.upload()  # Upload your token API kaggle.json FILE here\n"
      ]
    },
    {
      "cell_type": "code",
      "execution_count": null,
      "metadata": {
        "id": "w-qStE4g4wRI"
      },
      "outputs": [],
      "source": [
        "!mkdir -p ~/.kaggle\n",
        "!cp kaggle.json ~/.kaggle/\n",
        "!chmod 600 ~/.kaggle/kaggle.json \n",
        "\n",
        "#TO create a directory in goggle collab\n"
      ]
    },
    {
      "cell_type": "code",
      "execution_count": 5,
      "metadata": {
        "colab": {
          "base_uri": "https://localhost:8080/"
        },
        "id": "ABMb_H9I44UC",
        "outputId": "a1bfc913-d7f3-4bdb-97c0-a1ae7d79a6c9"
      },
      "outputs": [
        {
          "name": "stdout",
          "output_type": "stream",
          "text": [
            "Dataset URL: https://www.kaggle.com/datasets/grassknoted/asl-alphabet\n",
            "License(s): GPL-2.0\n",
            "Downloading asl-alphabet.zip to /content\n",
            " 98% 1.00G/1.03G [00:05<00:00, 237MB/s]\n",
            "100% 1.03G/1.03G [00:05<00:00, 192MB/s]\n"
          ]
        }
      ],
      "source": [
        "!kaggle datasets download -d grassknoted/asl-alphabet -p /content --unzip\n"
      ]
    },
    {
      "cell_type": "code",
      "execution_count": 6,
      "metadata": {
        "colab": {
          "base_uri": "https://localhost:8080/"
        },
        "id": "sl19MbJS58Fp",
        "outputId": "c229223b-38f5-4884-8dc2-33ac2e4514a4"
      },
      "outputs": [
        {
          "name": "stdout",
          "output_type": "stream",
          "text": [
            "Number of classes: 29\n",
            "First 5 classes: ['Q', 'N', 'T', 'P', 'Z']\n"
          ]
        }
      ],
      "source": [
        "import os\n",
        "\n",
        "data_dir = \"/content/asl_alphabet_train/asl_alphabet_train\"\n",
        "print(\"Number of classes:\", len(os.listdir(data_dir)))\n",
        "print(\"First 5 classes:\", os.listdir(data_dir)[:5])\n"
      ]
    },
    {
      "cell_type": "code",
      "execution_count": 7,
      "metadata": {
        "id": "KlsEhsLE6PDa"
      },
      "outputs": [],
      "source": [
        "import os\n",
        "import numpy as np\n",
        "import matplotlib.pyplot as plt\n",
        "import tensorflow as tf\n",
        "from tensorflow.keras.preprocessing.image import ImageDataGenerator\n",
        "from tensorflow.keras.models import Sequential\n",
        "from tensorflow.keras.layers import Conv2D, MaxPooling2D, Flatten, Dense, Dropout, BatchNormalization\n",
        "from tensorflow.keras.callbacks import EarlyStopping, ModelCheckpoint\n"
      ]
    },
    {
      "cell_type": "code",
      "execution_count": 17,
      "metadata": {
        "colab": {
          "base_uri": "https://localhost:8080/"
        },
        "id": "MI6GsOEe6TbV",
        "outputId": "9e08bbd9-9509-464a-bc40-48aa6e812027"
      },
      "outputs": [
        {
          "name": "stdout",
          "output_type": "stream",
          "text": [
            "Classes: 29\n",
            "Total samples: 87000\n"
          ]
        }
      ],
      "source": [
        "# dataset path\n",
        "data_dir = \"/content/asl_alphabet_train/asl_alphabet_train\"\n",
        "\n",
        "# get class labels\n",
        "classes = sorted(os.listdir(data_dir))\n",
        "num_classes = len(classes)\n",
        "print(\"Classes:\", num_classes)\n",
        "\n",
        "# collect filepaths & labels\n",
        "filepaths = []\n",
        "labels = []\n",
        "\n",
        "for label in classes:\n",
        "    class_dir = os.path.join(data_dir, label)\n",
        "    for fname in os.listdir(class_dir):\n",
        "        filepaths.append(os.path.join(class_dir, fname))\n",
        "        labels.append(classes.index(label))\n",
        "\n",
        "filepaths = np.array(filepaths)\n",
        "labels = np.array(labels)\n",
        "\n",
        "print(\"Total samples:\", len(filepaths))\n"
      ]
    },
    {
      "cell_type": "code",
      "execution_count": 18,
      "metadata": {
        "id": "LoPfSGsv6Vci"
      },
      "outputs": [],
      "source": [
        "def create_model(img_size=64, num_classes=29):\n",
        "    model = Sequential([\n",
        "        Conv2D(32, (3,3), activation='relu', input_shape=(img_size, img_size, 3)),\n",
        "        BatchNormalization(),\n",
        "        MaxPooling2D(2,2),\n",
        "\n",
        "        Conv2D(64, (3,3), activation='relu'),\n",
        "        BatchNormalization(),\n",
        "        MaxPooling2D(2,2),\n",
        "\n",
        "        Conv2D(128, (3,3), activation='relu'),\n",
        "        BatchNormalization(),\n",
        "        MaxPooling2D(2,2),\n",
        "\n",
        "        Flatten(),\n",
        "        Dense(256, activation='relu'),\n",
        "        Dropout(0.5),\n",
        "        Dense(num_classes, activation='softmax')\n",
        "    ])\n",
        "\n",
        "    model.compile(optimizer='adam',\n",
        "                  loss='sparse_categorical_crossentropy',\n",
        "                  metrics=['accuracy'])\n",
        "    return model\n"
      ]
    },
    {
      "cell_type": "code",
      "execution_count": 21,
      "metadata": {
        "colab": {
          "base_uri": "https://localhost:8080/"
        },
        "id": "J_h92Ksb6Z5u",
        "outputId": "ba2ca959-479d-4a42-e959-a2fea8dcfdb0"
      },
      "outputs": [
        {
          "name": "stdout",
          "output_type": "stream",
          "text": [
            "\n",
            "===== Fold 1 / 3 =====\n",
            "Found 58000 validated image filenames.\n",
            "Found 29000 validated image filenames.\n",
            "Epoch 1/5\n"
          ]
        },
        {
          "name": "stderr",
          "output_type": "stream",
          "text": [
            "/usr/local/lib/python3.12/dist-packages/keras/src/layers/convolutional/base_conv.py:113: UserWarning: Do not pass an `input_shape`/`input_dim` argument to a layer. When using Sequential models, prefer using an `Input(shape)` object as the first layer in the model instead.\n",
            "  super().__init__(activity_regularizer=activity_regularizer, **kwargs)\n",
            "/usr/local/lib/python3.12/dist-packages/keras/src/trainers/data_adapters/py_dataset_adapter.py:121: UserWarning: Your `PyDataset` class should call `super().__init__(**kwargs)` in its constructor. `**kwargs` can include `workers`, `use_multiprocessing`, `max_queue_size`. Do not pass these arguments to `fit()`, as they will be ignored.\n",
            "  self._warn_if_super_not_called()\n"
          ]
        },
        {
          "name": "stdout",
          "output_type": "stream",
          "text": [
            "\u001b[1m907/907\u001b[0m \u001b[32m━━━━━━━━━━━━━━━━━━━━\u001b[0m\u001b[37m\u001b[0m \u001b[1m79s\u001b[0m 80ms/step - accuracy: 0.3359 - loss: 2.3853 - val_accuracy: 0.7331 - val_loss: 0.8872\n",
            "Epoch 2/5\n",
            "\u001b[1m907/907\u001b[0m \u001b[32m━━━━━━━━━━━━━━━━━━━━\u001b[0m\u001b[37m\u001b[0m \u001b[1m67s\u001b[0m 74ms/step - accuracy: 0.8345 - loss: 0.4808 - val_accuracy: 0.9319 - val_loss: 0.2119\n",
            "Epoch 3/5\n",
            "\u001b[1m907/907\u001b[0m \u001b[32m━━━━━━━━━━━━━━━━━━━━\u001b[0m\u001b[37m\u001b[0m \u001b[1m66s\u001b[0m 73ms/step - accuracy: 0.9329 - loss: 0.1954 - val_accuracy: 0.8431 - val_loss: 0.6777\n",
            "Epoch 4/5\n",
            "\u001b[1m907/907\u001b[0m \u001b[32m━━━━━━━━━━━━━━━━━━━━\u001b[0m\u001b[37m\u001b[0m \u001b[1m66s\u001b[0m 73ms/step - accuracy: 0.9586 - loss: 0.1237 - val_accuracy: 0.9360 - val_loss: 0.2292\n",
            "Epoch 5/5\n",
            "\u001b[1m907/907\u001b[0m \u001b[32m━━━━━━━━━━━━━━━━━━━━\u001b[0m\u001b[37m\u001b[0m \u001b[1m89s\u001b[0m 98ms/step - accuracy: 0.9656 - loss: 0.1049 - val_accuracy: 0.9739 - val_loss: 0.0832\n",
            "Fold 1 Accuracy: 0.9739\n",
            "\n",
            "===== Fold 2 / 3 =====\n",
            "Found 58000 validated image filenames.\n",
            "Found 29000 validated image filenames.\n",
            "Epoch 1/5\n",
            "\u001b[1m907/907\u001b[0m \u001b[32m━━━━━━━━━━━━━━━━━━━━\u001b[0m\u001b[37m\u001b[0m \u001b[1m80s\u001b[0m 81ms/step - accuracy: 0.3252 - loss: 2.3695 - val_accuracy: 0.8668 - val_loss: 0.3813\n",
            "Epoch 2/5\n",
            "\u001b[1m907/907\u001b[0m \u001b[32m━━━━━━━━━━━━━━━━━━━━\u001b[0m\u001b[37m\u001b[0m \u001b[1m73s\u001b[0m 81ms/step - accuracy: 0.8261 - loss: 0.5067 - val_accuracy: 0.8162 - val_loss: 0.6726\n",
            "Epoch 3/5\n",
            "\u001b[1m907/907\u001b[0m \u001b[32m━━━━━━━━━━━━━━━━━━━━\u001b[0m\u001b[37m\u001b[0m \u001b[1m67s\u001b[0m 74ms/step - accuracy: 0.9261 - loss: 0.2107 - val_accuracy: 0.9853 - val_loss: 0.0418\n",
            "Epoch 4/5\n",
            "\u001b[1m907/907\u001b[0m \u001b[32m━━━━━━━━━━━━━━━━━━━━\u001b[0m\u001b[37m\u001b[0m \u001b[1m68s\u001b[0m 75ms/step - accuracy: 0.9573 - loss: 0.1256 - val_accuracy: 0.9476 - val_loss: 0.1648\n",
            "Epoch 5/5\n",
            "\u001b[1m907/907\u001b[0m \u001b[32m━━━━━━━━━━━━━━━━━━━━\u001b[0m\u001b[37m\u001b[0m \u001b[1m69s\u001b[0m 76ms/step - accuracy: 0.9672 - loss: 0.1011 - val_accuracy: 0.9947 - val_loss: 0.0160\n",
            "Fold 2 Accuracy: 0.9947\n",
            "\n",
            "===== Fold 3 / 3 =====\n",
            "Found 58000 validated image filenames.\n",
            "Found 29000 validated image filenames.\n",
            "Epoch 1/5\n",
            "\u001b[1m907/907\u001b[0m \u001b[32m━━━━━━━━━━━━━━━━━━━━\u001b[0m\u001b[37m\u001b[0m \u001b[1m96s\u001b[0m 99ms/step - accuracy: 0.3240 - loss: 2.4121 - val_accuracy: 0.6500 - val_loss: 1.3688\n",
            "Epoch 2/5\n",
            "\u001b[1m907/907\u001b[0m \u001b[32m━━━━━━━━━━━━━━━━━━━━\u001b[0m\u001b[37m\u001b[0m \u001b[1m68s\u001b[0m 75ms/step - accuracy: 0.8277 - loss: 0.5053 - val_accuracy: 0.8260 - val_loss: 0.6804\n",
            "Epoch 3/5\n",
            "\u001b[1m907/907\u001b[0m \u001b[32m━━━━━━━━━━━━━━━━━━━━\u001b[0m\u001b[37m\u001b[0m \u001b[1m75s\u001b[0m 83ms/step - accuracy: 0.9286 - loss: 0.2130 - val_accuracy: 0.9082 - val_loss: 0.3203\n",
            "Epoch 4/5\n",
            "\u001b[1m907/907\u001b[0m \u001b[32m━━━━━━━━━━━━━━━━━━━━\u001b[0m\u001b[37m\u001b[0m \u001b[1m69s\u001b[0m 76ms/step - accuracy: 0.9564 - loss: 0.1291 - val_accuracy: 0.9707 - val_loss: 0.0865\n",
            "Epoch 5/5\n",
            "\u001b[1m907/907\u001b[0m \u001b[32m━━━━━━━━━━━━━━━━━━━━\u001b[0m\u001b[37m\u001b[0m \u001b[1m68s\u001b[0m 75ms/step - accuracy: 0.9679 - loss: 0.1004 - val_accuracy: 0.9579 - val_loss: 0.1373\n",
            "Fold 3 Accuracy: 0.9579\n",
            "\n",
            "===== Cross Validation Results =====\n",
            "Fold 1: 0.9739\n",
            "Fold 2: 0.9947\n",
            "Fold 3: 0.9579\n",
            "Mean Accuracy: 0.9755\n"
          ]
        }
      ],
      "source": [
        "import pandas as pd\n",
        "from sklearn.model_selection import StratifiedKFold\n",
        "\n",
        "k = 3\n",
        "img_size = 64\n",
        "batch_size = 64\n",
        "epochs = 5   # keep small to save runtime\n",
        "\n",
        "kf = StratifiedKFold(n_splits=k, shuffle=True, random_state=42)\n",
        "fold_accuracies = []\n",
        "\n",
        "for fold, (train_idx, val_idx) in enumerate(kf.split(filepaths, labels)):\n",
        "    print(f\"\\nFold {fold+1} / {k}\")\n",
        "\n",
        "    # split data\n",
        "    train_files, val_files = filepaths[train_idx], filepaths[val_idx]\n",
        "    train_labels, val_labels = labels[train_idx], labels[val_idx]\n",
        "\n",
        "    # datagen\n",
        "    train_gen = ImageDataGenerator(rescale=1./255).flow_from_dataframe(\n",
        "        dataframe=pd.DataFrame({\"filename\": train_files, \"class\": train_labels}),\n",
        "        x_col=\"filename\",\n",
        "        y_col=\"class\",\n",
        "        target_size=(img_size, img_size),\n",
        "        batch_size=batch_size,\n",
        "        class_mode=\"raw\"\n",
        "    )\n",
        "\n",
        "    val_gen = ImageDataGenerator(rescale=1./255).flow_from_dataframe(\n",
        "        dataframe=pd.DataFrame({\"filename\": val_files, \"class\": val_labels}),\n",
        "        x_col=\"filename\",\n",
        "        y_col=\"class\",\n",
        "        target_size=(img_size, img_size),\n",
        "        batch_size=batch_size,\n",
        "        class_mode=\"raw\"\n",
        "    )\n",
        "\n",
        "    # build model\n",
        "    model = create_model(img_size, num_classes)\n",
        "\n",
        "    # train\n",
        "    history = model.fit(train_gen, validation_data=val_gen, epochs=epochs, verbose=1)\n",
        "\n",
        "    # evaluate\n",
        "    loss, acc = model.evaluate(val_gen, verbose=0)\n",
        "    print(f\"Fold {fold+1} Accuracy: {acc:.4f}\")\n",
        "    fold_accuracies.append(acc)\n",
        "\n",
        "print(\"\\nCross Validation Results\")\n",
        "for i, acc in enumerate(fold_accuracies):\n",
        "    print(f\"Fold {i+1}: {acc:.4f}\")\n",
        "print(f\"Mean Accuracy: {np.mean(fold_accuracies):.4f}\")\n"
      ]
    },
    {
      "cell_type": "code",
      "execution_count": 24,
      "metadata": {
        "colab": {
          "base_uri": "https://localhost:8080/"
        },
        "id": "QIDmcTAeL4RK",
        "outputId": "ed11d3f4-5642-4125-e37c-5d8352504a01"
      },
      "outputs": [
        {
          "name": "stdout",
          "output_type": "stream",
          "text": [
            "\n",
            "Cross Validation Results\n",
            "Fold 1: 0.9739\n",
            "Fold 2: 0.9947\n",
            "Fold 3: 0.9579\n",
            "Mean Accuracy: 0.9755\n"
          ]
        }
      ],
      "source": [
        "print(\"\\nCross Validation Results\")\n",
        "for i, acc in enumerate(fold_accuracies):\n",
        "    print(f\"Fold {i+1}: {acc:.4f}\")\n",
        "print(f\"Mean Accuracy: {np.mean(fold_accuracies):.4f}\")\n"
      ]
    },
    {
      "cell_type": "code",
      "execution_count": 29,
      "metadata": {
        "colab": {
          "base_uri": "https://localhost:8080/",
          "height": 1000
        },
        "id": "DeV1n9nuNFmb",
        "outputId": "74ea23f4-e397-4b8d-a650-b3bdb1a4a710"
      },
      "outputs": [
        {
          "name": "stdout",
          "output_type": "stream",
          "text": [
            "Found 29000 validated image filenames.\n",
            "\u001b[1m  1/454\u001b[0m \u001b[37m━━━━━━━━━━━━━━━━━━━━\u001b[0m \u001b[1m29s\u001b[0m 65ms/step"
          ]
        },
        {
          "name": "stderr",
          "output_type": "stream",
          "text": [
            "/usr/local/lib/python3.12/dist-packages/keras/src/trainers/data_adapters/py_dataset_adapter.py:121: UserWarning: Your `PyDataset` class should call `super().__init__(**kwargs)` in its constructor. `**kwargs` can include `workers`, `use_multiprocessing`, `max_queue_size`. Do not pass these arguments to `fit()`, as they will be ignored.\n",
            "  self._warn_if_super_not_called()\n"
          ]
        },
        {
          "name": "stdout",
          "output_type": "stream",
          "text": [
            "\u001b[1m454/454\u001b[0m \u001b[32m━━━━━━━━━━━━━━━━━━━━\u001b[0m\u001b[37m\u001b[0m \u001b[1m20s\u001b[0m 45ms/step\n"
          ]
        },
        {
          "data": {
            "image/png": "[encoded data removed]",
            "text/plain": [
              "<Figure size 1200x1000 with 2 Axes>"
            ]
          },
          "metadata": {},
          "output_type": "display_data"
        },
        {
          "name": "stdout",
          "output_type": "stream",
          "text": [
            "              precision    recall  f1-score   support\n",
            "\n",
            "           A       0.92      0.99      0.95      1000\n",
            "           B       0.98      1.00      0.99      1000\n",
            "           C       1.00      1.00      1.00      1000\n",
            "           D       1.00      0.95      0.97      1000\n",
            "           E       0.98      0.92      0.95      1000\n",
            "           F       0.99      1.00      0.99      1000\n",
            "           G       0.98      0.99      0.99      1000\n",
            "           H       1.00      0.98      0.99      1000\n",
            "           I       1.00      0.92      0.96      1000\n",
            "           J       0.99      0.99      0.99      1000\n",
            "           K       0.99      0.92      0.96      1000\n",
            "           L       1.00      0.97      0.98      1000\n",
            "           M       0.95      0.88      0.91      1000\n",
            "           N       0.88      1.00      0.93      1000\n",
            "           O       0.97      0.97      0.97      1000\n",
            "           P       1.00      0.96      0.98      1000\n",
            "           Q       0.99      1.00      0.99      1000\n",
            "           R       0.98      0.96      0.97      1000\n",
            "           S       0.94      0.99      0.96      1000\n",
            "           T       0.94      0.99      0.97      1000\n",
            "           U       0.96      0.91      0.93      1000\n",
            "           V       0.96      0.72      0.82      1000\n",
            "           W       0.72      0.99      0.84      1000\n",
            "           X       0.95      0.91      0.93      1000\n",
            "           Y       0.86      0.98      0.92      1000\n",
            "           Z       1.00      0.94      0.97      1000\n",
            "         del       1.00      0.99      0.99      1000\n",
            "     nothing       1.00      1.00      1.00      1000\n",
            "       space       1.00      0.99      1.00      1000\n",
            "\n",
            "    accuracy                           0.96     29000\n",
            "   macro avg       0.96      0.96      0.96     29000\n",
            "weighted avg       0.96      0.96      0.96     29000\n",
            "\n"
          ]
        }
      ],
      "source": [
        "val_gen = ImageDataGenerator(rescale=1./255).flow_from_dataframe(\n",
        "    dataframe=pd.DataFrame({\"filename\": val_files, \"class\": val_labels}),\n",
        "    x_col=\"filename\",\n",
        "    y_col=\"class\",\n",
        "    target_size=(img_size, img_size),\n",
        "    batch_size=batch_size,\n",
        "    class_mode=\"raw\",\n",
        "    shuffle=False   # ⬅️ important!\n",
        ")\n",
        "\n",
        "# Predictions\n",
        "y_true = val_gen.labels\n",
        "y_pred = np.argmax(model.predict(val_gen), axis=1)\n",
        "\n",
        "# Confusion Matrix\n",
        "cm = confusion_matrix(y_true, y_pred)\n",
        "plt.figure(figsize=(12,10))\n",
        "sns.heatmap(cm, annot=False, cmap=\"Blues\")\n",
        "plt.title(f\"Confusion Matrix - Fold {fold+1}\")\n",
        "plt.xlabel(\"Predicted\")\n",
        "plt.ylabel(\"True\")\n",
        "plt.show()\n",
        "\n",
        "# Classification Report (map indices back to class names)\n",
        "print(classification_report(y_true, y_pred, target_names=classes))\n"
      ]
    }
  ],
  "metadata": {
    "accelerator": "GPU",
    "colab": {
      "gpuType": "T4",
      "provenance": []
    },
    "kernelspec": {
      "display_name": "Python 3",
      "name": "python3"
    },
    "language_info": {
      "name": "python"
    }
  },
  "nbformat": 4,
  "nbformat_minor": 0
}
